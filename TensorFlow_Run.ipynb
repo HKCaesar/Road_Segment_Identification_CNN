{
 "cells": [
  {
   "cell_type": "markdown",
   "metadata": {},
   "source": [
    "#  Project Road Segmentation Using  Tensor Flow\n",
    "\n",
    "\n",
    "> We import the required python library for the homework below. Note that we have imported a python file(ourProjectFunctions) that contains some functions we would define ourselves. Those functions will be explained in the appropriate palces before it is to be used in the document."
   ]
  },
  {
   "cell_type": "code",
   "execution_count": 2,
   "metadata": {
    "collapsed": false
   },
   "outputs": [],
   "source": [
    "%matplotlib inline\n",
    "import matplotlib.image as mpimg\n",
    "import numpy as np\n",
    "import matplotlib.pyplot as plt\n",
    "import os,sys\n",
    "from PIL import Image\n",
    "import ourProjectFunctions     # Python Function file with the functions we will use in the project. \n",
    "\n",
    "%load_ext autoreload\n",
    "\n",
    "%autoreload 2"
   ]
  },
  {
   "cell_type": "code",
   "execution_count": 3,
   "metadata": {
    "collapsed": true
   },
   "outputs": [],
   "source": [
    "SEED = 666 # For the submission\n",
    "np.random.seed(SEED)"
   ]
  },
  {
   "cell_type": "code",
   "execution_count": 33,
   "metadata": {
    "collapsed": false
   },
   "outputs": [
    {
     "name": "stdout",
     "output_type": "stream",
     "text": [
      "Loading 800 images\n",
      "satImage_001.png\n",
      "Loading 800 images\n",
      "satImage_001.png\n"
     ]
    }
   ],
   "source": [
    "# Load a set of images\n",
    "root_dir = \"..\\\\training\\\\\"\n",
    "\n",
    "image_dir = root_dir + \"images_ext\\\\\"\n",
    "files = os.listdir(image_dir)\n",
    "n = min(10000, len(files)) # Load  100 images. \n",
    "print(\"Loading \" + str(n) + \" images\")\n",
    "imgs = [ourProjectFunctions.load_image(image_dir + files[i], convert_lab=True) for i in range(n)]\n",
    "print(files[0])\n",
    "\n",
    "gt_dir = root_dir + \"groundtruth_ext\\\\\"\n",
    "print(\"Loading \" + str(n) + \" images\")\n",
    "gt_imgs = [ourProjectFunctions.load_image(gt_dir + files[i]) for i in range(n)]\n",
    "print(files[0])"
   ]
  },
  {
   "cell_type": "code",
   "execution_count": 34,
   "metadata": {
    "collapsed": false
   },
   "outputs": [
    {
     "name": "stdout",
     "output_type": "stream",
     "text": [
      "(400, 400, 4)\n"
     ]
    }
   ],
   "source": [
    "import cv2\n",
    "\n",
    "list_increased = list()\n",
    "\n",
    "for img in imgs:\n",
    "    \n",
    "    gray_image = cv2.cvtColor(img, cv2.COLOR_RGB2GRAY)\n",
    "    \n",
    "    dft = cv2.dft(gray_image, flags = cv2.DFT_COMPLEX_OUTPUT)\n",
    "    dft_shift = np.fft.fftshift(dft)\n",
    "    magnitude_spectrum = 20*np.log(cv2.magnitude(dft_shift[:,:,0],dft_shift[:,:,1]))\n",
    "    \n",
    "    img = np.append(img, magnitude_spectrum)\n",
    "    img = img.reshape([400, 400, 4])\n",
    "    list_increased.append(img)\n",
    "\n",
    "print(list_increased[0].shape)\n",
    "    \n",
    "imgs = list_increased"
   ]
  },
  {
   "cell_type": "code",
   "execution_count": 35,
   "metadata": {
    "collapsed": false
   },
   "outputs": [
    {
     "name": "stdout",
     "output_type": "stream",
     "text": [
      "lenth and shape of Satellite  images after patching and  Linearisation: \n",
      "(2000000, 8, 8, 4)\n",
      "lenth and shape of Ground truth  images after patching and Linearisation: \n",
      "(2000000, 8, 8)\n"
     ]
    }
   ],
   "source": [
    "# Extract patches from input images\n",
    "patch_size = 8\n",
    "\n",
    "img_patches = [ourProjectFunctions.img_crop(imgs[i], patch_size, patch_size) for i in range(n)]\n",
    "gt_patches = [ourProjectFunctions.img_crop(gt_imgs[i], patch_size, patch_size) for i in range(n)]\n",
    "\n",
    "X = np.asarray([img_patches[i][j] for i in range(len(img_patches)) for j in range(len(img_patches[i]))])\n",
    "gt_patches =  np.asarray([gt_patches[i][j] for i in range(len(gt_patches)) for j in range(len(gt_patches[i]))])\n",
    "\n",
    "print (\"lenth and shape of Satellite  images after patching and  Linearisation: \")\n",
    "print(X.shape)\n",
    "print (\"lenth and shape of Ground truth  images after patching and Linearisation: \")\n",
    "print(gt_patches.shape)"
   ]
  },
  {
   "cell_type": "code",
   "execution_count": 36,
   "metadata": {
    "collapsed": false
   },
   "outputs": [],
   "source": [
    "Y = np.asarray([ourProjectFunctions.value_to_class_for_tensor_flow(np.mean(gt_patches[i])) for i in range(len(gt_patches))])"
   ]
  },
  {
   "cell_type": "code",
   "execution_count": 37,
   "metadata": {
    "collapsed": false
   },
   "outputs": [
    {
     "name": "stdout",
     "output_type": "stream",
     "text": [
      "train_images(1999800,8)\n",
      "validation_images(200,8)\n"
     ]
    }
   ],
   "source": [
    "#img_size=10;\n",
    "VALIDATION_SIZE = 200\n",
    "label_count = 2;\n",
    "validation_images = X[:VALIDATION_SIZE]\n",
    "validation_labels = Y[:VALIDATION_SIZE]\n",
    "\n",
    "train_images = X[VALIDATION_SIZE:]\n",
    "train_labels = Y[VALIDATION_SIZE:]\n",
    "\n",
    "\n",
    "print('train_images({0[0]},{0[1]})'.format(train_images.shape))\n",
    "print('validation_images({0[0]},{0[1]})'.format(validation_images.shape))"
   ]
  },
  {
   "cell_type": "code",
   "execution_count": 38,
   "metadata": {
    "collapsed": false
   },
   "outputs": [
    {
     "data": {
      "text/plain": [
       "(1999800, 8, 8, 4)"
      ]
     },
     "execution_count": 38,
     "metadata": {},
     "output_type": "execute_result"
    }
   ],
   "source": [
    "train_images.shape"
   ]
  },
  {
   "cell_type": "code",
   "execution_count": 39,
   "metadata": {
    "collapsed": false
   },
   "outputs": [
    {
     "data": {
      "text/plain": [
       "(200, 8, 8, 4)"
      ]
     },
     "execution_count": 39,
     "metadata": {},
     "output_type": "execute_result"
    }
   ],
   "source": [
    "validation_images.shape"
   ]
  },
  {
   "cell_type": "code",
   "execution_count": 40,
   "metadata": {
    "collapsed": true
   },
   "outputs": [],
   "source": [
    "import tensorflow as tf"
   ]
  },
  {
   "cell_type": "code",
   "execution_count": 48,
   "metadata": {
    "collapsed": false
   },
   "outputs": [],
   "source": [
    "labels_count = 2\n",
    "data_nodes = tf.placeholder('float', shape=[None, patch_size, patch_size, 4])\n",
    "label_nodes = tf.placeholder('float', shape=[None, labels_count])"
   ]
  },
  {
   "cell_type": "code",
   "execution_count": 49,
   "metadata": {
    "collapsed": true
   },
   "outputs": [],
   "source": [
    "# weight initialization\n",
    "def weight_variable(shape):\n",
    "    initial = tf.truncated_normal(shape, stddev=0.1, seed=SEED)\n",
    "    return tf.Variable(initial)\n",
    "\n",
    "def bias_variable(shape):\n",
    "    initial = tf.constant(0.1, shape=shape)\n",
    "    return tf.Variable(initial)"
   ]
  },
  {
   "cell_type": "code",
   "execution_count": 50,
   "metadata": {
    "collapsed": true
   },
   "outputs": [],
   "source": [
    "def conv2d(x, W):\n",
    "    return tf.nn.conv2d(x, W, strides=[1, 1, 1, 1], padding='SAME')"
   ]
  },
  {
   "cell_type": "code",
   "execution_count": 51,
   "metadata": {
    "collapsed": true
   },
   "outputs": [],
   "source": [
    "def max_pool_2x2(x):\n",
    "    return tf.nn.max_pool(x, ksize=[1, 2, 2, 1], strides=[1, 2, 2, 1], padding='SAME')"
   ]
  },
  {
   "cell_type": "code",
   "execution_count": 52,
   "metadata": {
    "collapsed": false,
    "scrolled": true
   },
   "outputs": [
    {
     "name": "stdout",
     "output_type": "stream",
     "text": [
      "(?, 4, 4, 32)\n"
     ]
    }
   ],
   "source": [
    "#conv layer 0 \n",
    "#W_conv0 = weight_variable([5, 5, 4, 32])\n",
    "#b_conv0 = bias_variable([32])\n",
    "\n",
    "#h_conv0 = tf.nn.relu6(tf.nn.bias_add(conv2d(data_nodes, W_conv0), b_conv0))\n",
    "#print (h_conv1.get_shape()) # => (40000, 28, 28, 32)\n",
    "#h_pool1 = max_pool_2x2(h_conv1)\n",
    "\n",
    "\n",
    "# first convolutional layer\n",
    "W_conv1 = weight_variable([5, 5, 4, 32])\n",
    "b_conv1 = bias_variable([32])\n",
    "\n",
    "# (40000,784) => (40000,28,28,1)\n",
    "#image = tf.reshape(X, [-1,image_width , image_height,1])\n",
    "#print (image.get_shape()) # =>(40000,28,28,1)\n",
    "\n",
    "\n",
    "h_conv1 = tf.nn.relu6(tf.nn.bias_add(conv2d(data_nodes, W_conv1), b_conv1))\n",
    "#print (h_conv1.get_shape()) # => (40000, 28, 28, 32)\n",
    "h_pool1 = max_pool_2x2(h_conv1)\n",
    "print (h_pool1.get_shape()) # => (40000, 14, 14, 32)"
   ]
  },
  {
   "cell_type": "code",
   "execution_count": 53,
   "metadata": {
    "collapsed": false
   },
   "outputs": [
    {
     "name": "stdout",
     "output_type": "stream",
     "text": [
      "(?, 2, 2, 128)\n"
     ]
    }
   ],
   "source": [
    "#2nd convolution layer\n",
    "W_conv2 = weight_variable([5, 5, 32, 128])\n",
    "b_conv2 = bias_variable([128])\n",
    "\n",
    "h_conv2 = tf.nn.relu6(tf.nn.bias_add(conv2d(h_pool1, W_conv2), b_conv2))\n",
    "#print (h_conv2.get_shape()) # => (128000, 14,14, 64)\n",
    "h_pool2 = max_pool_2x2(h_conv2)\n",
    "print (h_pool2.get_shape()) # => (1280000, 7, 7, 64)"
   ]
  },
  {
   "cell_type": "code",
   "execution_count": 54,
   "metadata": {
    "collapsed": false
   },
   "outputs": [
    {
     "name": "stdout",
     "output_type": "stream",
     "text": [
      "(?, 2048)\n"
     ]
    }
   ],
   "source": [
    "# densely connected layer\n",
    "W_fc1 = weight_variable([int(patch_size/4 * patch_size/4 * 128), 2048])\n",
    "b_fc1 = bias_variable([2048])\n",
    "\n",
    "# (40000, 7, 7, 64) => (40000, 3136)\n",
    "h_pool2_flat = tf.reshape(h_pool2, [-1, int(patch_size/4 * patch_size/4 * 128)])\n",
    "\n",
    "h_fc1 = tf.nn.relu6(tf.matmul(h_pool2_flat, W_fc1) + b_fc1)\n",
    "print (h_fc1.get_shape()) # => (40000, 1024)"
   ]
  },
  {
   "cell_type": "code",
   "execution_count": 55,
   "metadata": {
    "collapsed": true
   },
   "outputs": [],
   "source": [
    "keep_prob = tf.placeholder('float')\n",
    "h_fc1_drop = tf.nn.dropout(h_fc1, keep_prob, seed=SEED)"
   ]
  },
  {
   "cell_type": "code",
   "execution_count": 56,
   "metadata": {
    "collapsed": false
   },
   "outputs": [],
   "source": [
    "# readout layer for deep net\n",
    "labels_count =2\n",
    "W_fc2 = weight_variable([2048, labels_count])\n",
    "b_fc2 = bias_variable([labels_count])\n",
    "\n",
    "y = tf.matmul(h_fc1_drop, W_fc2) + b_fc2"
   ]
  },
  {
   "cell_type": "code",
   "execution_count": 57,
   "metadata": {
    "collapsed": false
   },
   "outputs": [],
   "source": [
    "LEARNING_RATE = 1e-4\n",
    "\n",
    "# cost function\n",
    "cross_entropy = tf.reduce_mean(tf.nn.softmax_cross_entropy_with_logits(y, label_nodes))\n",
    "\n",
    "regularizers = tf.nn.l2_loss(W_fc1) + tf.nn.l2_loss(b_fc1) + tf.nn.l2_loss(W_fc2) + tf.nn.l2_loss(b_fc2)\n",
    "\n",
    "# optimisation function\n",
    "train_step = tf.train.AdamOptimizer(LEARNING_RATE).minimize(cross_entropy + 5e-6 * regularizers)\n",
    "# train_step = tf.train.MomentumOptimizer(0.001, 0.0).minimize(cross_entropy)\n",
    "# train_step = tf.train.AdadeltaOptimizer(learning_rate=0.01).minimize(cross_entropy)\n",
    "\n",
    "# evaluation\n",
    "correct_prediction = tf.equal(tf.argmax(tf.nn.softmax(y),1), tf.argmax(label_nodes,1))\n",
    "false_prediction = tf.logical_not(correct_prediction)\n",
    "\n",
    "accuracy = tf.reduce_mean(tf.cast(correct_prediction, 'float'))\n",
    "\n",
    "true_positives = tf.reduce_sum(tf.to_int32(tf.logical_and(correct_prediction, tf.equal(tf.argmax(tf.nn.softmax(y),1), True) )))\n",
    "false_positives = tf.reduce_sum(tf.to_int32(tf.logical_and(false_prediction, tf.equal(tf.argmax(tf.nn.softmax(y),1), True) )))\n",
    "true_negatives = tf.reduce_sum(tf.to_int32(tf.logical_and(correct_prediction, tf.equal(tf.argmax(tf.nn.softmax(y),1), False) )))\n",
    "false_negatives = tf.reduce_sum(tf.to_int32(tf.logical_and(false_prediction, tf.equal(tf.argmax(tf.nn.softmax(y),1), False) )))\n",
    "\n"
   ]
  },
  {
   "cell_type": "code",
   "execution_count": 58,
   "metadata": {
    "collapsed": false
   },
   "outputs": [],
   "source": [
    "predict = tf.argmax(tf.nn.softmax(y),1)"
   ]
  },
  {
   "cell_type": "code",
   "execution_count": 69,
   "metadata": {
    "collapsed": true
   },
   "outputs": [],
   "source": [
    "\n",
    "# set to 20000 on local environment to get 0.99 accuracy\n",
    "TRAINING_ITERATIONS = 200000\n",
    "    \n",
    "DROPOUT = 0.5\n",
    "#BATCH_SIZES = 200\n",
    "\n",
    "# set to 0 to train on all available data\n",
    "VALIDATION_SIZES = 2000\n",
    "BATCH_SIZE= 200\n",
    "\n",
    "# image number to output\n",
    "IMAGE_TO_DISPLAY = 10"
   ]
  },
  {
   "cell_type": "code",
   "execution_count": 60,
   "metadata": {
    "collapsed": true
   },
   "outputs": [],
   "source": [
    "epochs_completed = 0\n",
    "index_in_epoch = 0\n",
    "num_examples = train_images.shape[0]\n",
    "\n",
    "# serve data by batches\n",
    "def next_batch(batch_size):\n",
    "    \n",
    "    global train_images\n",
    "    global train_labels\n",
    "    global index_in_epoch\n",
    "    global epochs_completed\n",
    "    \n",
    "    start = index_in_epoch\n",
    "    index_in_epoch += batch_size\n",
    "    \n",
    "    # when all trainig data have been already used, it is reorder randomly    \n",
    "    if index_in_epoch > num_examples:\n",
    "        # finished epoch\n",
    "        epochs_completed += 1\n",
    "        # shuffle the data\n",
    "        perm = np.arange(num_examples)\n",
    "        np.random.shuffle(perm)\n",
    "        train_images = train_images[perm]\n",
    "        train_labels = train_labels[perm]\n",
    "        # start next epoch\n",
    "        start = 0\n",
    "        index_in_epoch = batch_size\n",
    "        assert batch_size <= num_examples\n",
    "    end = index_in_epoch\n",
    "    return train_images[start:end], train_labels[start:end]"
   ]
  },
  {
   "cell_type": "code",
   "execution_count": 61,
   "metadata": {
    "collapsed": false
   },
   "outputs": [],
   "source": [
    "def display_validation_stats():\n",
    "    validation_accuracy = accuracy.eval(feed_dict={data_nodes: validation_images, \n",
    "                                                   label_nodes: validation_labels, \n",
    "                                                   keep_prob: 1.0})\n",
    "    print('validation_accuracy => %.4f'%validation_accuracy)\n",
    "    plt.plot(x_range, train_accuracies,'-b', label='Training acc')\n",
    "    plt.plot(x_range, validation_accuracies,'-g', label='Validation acc')\n",
    "    \n",
    "    plt.plot(x_range, f1_scores_train,'-y', label='Training F1')\n",
    "    plt.plot(x_range, f1_scores_test,'-r', label='Validation F1')\n",
    "    \n",
    "    \n",
    "    plt.legend(loc='lower right', frameon=False)\n",
    "    plt.ylim(ymax = 1.1, ymin = 0.0)\n",
    "   \n",
    "    plt.ylabel('accuracy')\n",
    "    plt.xlabel('step')\n",
    "    plt.show()\n",
    "    \n",
    "    \n",
    "   "
   ]
  },
  {
   "cell_type": "code",
   "execution_count": 67,
   "metadata": {
    "collapsed": true
   },
   "outputs": [],
   "source": [
    "def generate_predictions():\n",
    "    # Load submission images\n",
    "    test_dir = '..\\\\test_set_images\\\\'\n",
    "    submission_dir = '..\\\\submission\\\\'\n",
    "    overlay_dir = '..\\\\submission_overlay\\\\'\n",
    "\n",
    "    if not os.path.isdir(submission_dir):\n",
    "        os.mkdir(submission_dir)\n",
    "\n",
    "    if not os.path.isdir(overlay_dir):\n",
    "        os.mkdir(overlay_dir)\n",
    "\n",
    "    files = os.listdir(test_dir)\n",
    "\n",
    "    for file in files:\n",
    "        img = ourProjectFunctions.load_image(test_dir + file + '\\\\' + file + '.png', convert_lab=True)\n",
    "        \n",
    "        gray_image = cv2.cvtColor(img, cv2.COLOR_RGB2GRAY)\n",
    "        dft = cv2.dft(gray_image, flags = cv2.DFT_COMPLEX_OUTPUT)\n",
    "        dft_shift = np.fft.fftshift(dft)\n",
    "        magnitude_spectrum = 20*np.log(cv2.magnitude(dft_shift[:,:,0],dft_shift[:,:,1]))\n",
    "\n",
    "        img = np.append(img, magnitude_spectrum)\n",
    "        img = img.reshape([608, 608, 4])\n",
    "\n",
    "        img_patches = ourProjectFunctions.img_crop(img, patch_size, patch_size)\n",
    "        X = np.array(img_patches)\n",
    "\n",
    "        prediction = sess.run(predict, feed_dict={ data_nodes: X, keep_prob: 1.0 })\n",
    "        img_prediction = ourProjectFunctions.label_to_img(608, 608, patch_size, patch_size, prediction)\n",
    "\n",
    "        img_overlay = ourProjectFunctions.make_img_overlay(img, img_prediction)\n",
    "\n",
    "        save_path = file + \".png\"\n",
    "        Image.fromarray(ourProjectFunctions.img_float_to_uint8(img_prediction)).save(submission_dir + save_path)\n",
    "        Image.fromarray(ourProjectFunctions.img_float_to_uint8(img_overlay)).save(overlay_dir + save_path)"
   ]
  },
  {
   "cell_type": "code",
   "execution_count": 63,
   "metadata": {
    "collapsed": false
   },
   "outputs": [],
   "source": [
    "init = tf.global_variables_initializer()\n",
    "\n",
    "# Saver to be able to restore a model\n",
    "saver = tf.train.Saver()\n",
    "save_dir = '..\\\\tmp\\\\'\n",
    "\n",
    "if not os.path.isdir(save_dir):\n",
    "    os.mkdir(save_dir)"
   ]
  },
  {
   "cell_type": "code",
   "execution_count": 70,
   "metadata": {
    "collapsed": false
   },
   "outputs": [
    {
     "name": "stdout",
     "output_type": "stream",
     "text": [
      "F1 score train set =  0.07692307692306945 F1 Score test set =  0.18181818181816514\n",
      "training_accuracy / validation_accuracy => 0.04 / 0.10 for step 0\n",
      "F1 score train set =  0.05102040816325741 F1 Score test set =  0.18691588785045016\n",
      "training_accuracy / validation_accuracy => 0.07 / 0.13 for step 1\n",
      "F1 score train set =  0.0 F1 Score test set =  0.18181818181813905\n",
      "training_accuracy / validation_accuracy => 0.75 / 0.73 for step 2\n",
      "F1 score train set =  0.0 F1 Score test set =  0.0\n",
      "training_accuracy / validation_accuracy => 0.94 / 0.90 for step 3\n",
      "F1 score train set =  0.0 F1 Score test set =  0.0\n",
      "training_accuracy / validation_accuracy => 0.94 / 0.90 for step 4\n",
      "F1 score train set =  0.0 F1 Score test set =  0.0\n",
      "training_accuracy / validation_accuracy => 0.94 / 0.90 for step 5\n",
      "F1 score train set =  0.0 F1 Score test set =  0.0\n",
      "training_accuracy / validation_accuracy => 0.94 / 0.90 for step 6\n",
      "F1 score train set =  0.0 F1 Score test set =  0.0\n",
      "training_accuracy / validation_accuracy => 0.94 / 0.90 for step 7\n",
      "F1 score train set =  0.0 F1 Score test set =  0.0\n",
      "training_accuracy / validation_accuracy => 0.94 / 0.90 for step 8\n",
      "F1 score train set =  0.0 F1 Score test set =  0.0\n",
      "training_accuracy / validation_accuracy => 0.94 / 0.90 for step 9\n",
      "F1 score train set =  0.0 F1 Score test set =  0.0\n",
      "training_accuracy / validation_accuracy => 0.67 / 0.90 for step 10\n",
      "F1 score train set =  0.3333333333332803 F1 Score test set =  0.0\n",
      "training_accuracy / validation_accuracy => 0.94 / 0.84 for step 20\n",
      "F1 score train set =  0.0 F1 Score test set =  0.0\n",
      "training_accuracy / validation_accuracy => 0.94 / 0.90 for step 30\n",
      "F1 score train set =  0.0 F1 Score test set =  0.0\n",
      "training_accuracy / validation_accuracy => 0.92 / 0.90 for step 40\n",
      "F1 score train set =  0.0 F1 Score test set =  0.0\n",
      "training_accuracy / validation_accuracy => 0.92 / 0.90 for step 50\n",
      "F1 score train set =  0.0 F1 Score test set =  0.0\n",
      "training_accuracy / validation_accuracy => 0.82 / 0.90 for step 60\n",
      "F1 score train set =  0.0 F1 Score test set =  0.0\n",
      "training_accuracy / validation_accuracy => 1.00 / 0.90 for step 70\n",
      "F1 score train set =  0.0 F1 Score test set =  0.0\n",
      "training_accuracy / validation_accuracy => 0.94 / 0.90 for step 80\n",
      "F1 score train set =  0.0 F1 Score test set =  0.0\n",
      "training_accuracy / validation_accuracy => 1.00 / 0.90 for step 90\n",
      "F1 score train set =  0.0 F1 Score test set =  0.0\n",
      "training_accuracy / validation_accuracy => 0.92 / 0.90 for step 100\n",
      "F1 score train set =  0.0 F1 Score test set =  0.0\n",
      "training_accuracy / validation_accuracy => 0.76 / 0.90 for step 200\n",
      "F1 score train set =  0.4639999999999542 F1 Score test set =  0.0\n",
      "training_accuracy / validation_accuracy => 0.67 / 0.77 for step 300\n",
      "F1 score train set =  0.0 F1 Score test set =  0.0\n",
      "training_accuracy / validation_accuracy => 0.72 / 0.90 for step 400\n",
      "F1 score train set =  0.15999999999996672 F1 Score test set =  0.0\n",
      "training_accuracy / validation_accuracy => 0.89 / 0.89 for step 500\n",
      "F1 score train set =  0.0 F1 Score test set =  0.0\n",
      "training_accuracy / validation_accuracy => 0.89 / 0.90 for step 600\n",
      "F1 score train set =  0.0 F1 Score test set =  0.0\n",
      "training_accuracy / validation_accuracy => 1.00 / 0.90 for step 700\n",
      "F1 score train set =  0.0 F1 Score test set =  0.0\n",
      "training_accuracy / validation_accuracy => 0.75 / 0.90 for step 800\n",
      "F1 score train set =  0.0 F1 Score test set =  0.0\n",
      "training_accuracy / validation_accuracy => 0.92 / 0.88 for step 900\n",
      "F1 score train set =  0.0 F1 Score test set =  0.0\n",
      "training_accuracy / validation_accuracy => 0.51 / 0.90 for step 1000\n",
      "F1 score train set =  0.0 F1 Score test set =  0.0\n",
      "training_accuracy / validation_accuracy => 0.90 / 0.89 for step 2000\n",
      "F1 score train set =  0.0 F1 Score test set =  0.0\n",
      "training_accuracy / validation_accuracy => 1.00 / 0.89 for step 3000\n",
      "F1 score train set =  0.0 F1 Score test set =  0.0\n",
      "training_accuracy / validation_accuracy => 0.80 / 0.89 for step 4000\n",
      "F1 score train set =  0.0 F1 Score test set =  0.0\n",
      "training_accuracy / validation_accuracy => 0.92 / 0.90 for step 5000\n",
      "F1 score train set =  0.0 F1 Score test set =  0.0\n",
      "training_accuracy / validation_accuracy => 0.83 / 0.90 for step 6000\n",
      "F1 score train set =  0.0 F1 Score test set =  0.0\n",
      "training_accuracy / validation_accuracy => 0.43 / 0.90 for step 7000\n",
      "F1 score train set =  0.0 F1 Score test set =  0.0\n",
      "training_accuracy / validation_accuracy => 0.79 / 0.90 for step 8000\n",
      "F1 score train set =  0.0 F1 Score test set =  0.0\n",
      "training_accuracy / validation_accuracy => 0.80 / 0.90 for step 9000\n",
      "F1 score train set =  0.0 F1 Score test set =  0.0\n",
      "training_accuracy / validation_accuracy => 0.73 / 0.90 for step 10000\n",
      "F1 score train set =  0.0 F1 Score test set =  0.0\n",
      "training_accuracy / validation_accuracy => 0.71 / 0.90 for step 20000\n",
      "F1 score train set =  0.0 F1 Score test set =  0.0\n",
      "training_accuracy / validation_accuracy => 0.82 / 0.90 for step 30000\n",
      "F1 score train set =  0.0 F1 Score test set =  0.0\n",
      "training_accuracy / validation_accuracy => 0.80 / 0.90 for step 40000\n",
      "F1 score train set =  0.0 F1 Score test set =  0.0\n",
      "training_accuracy / validation_accuracy => 0.75 / 0.90 for step 50000\n",
      "F1 score train set =  0.0 F1 Score test set =  0.0\n",
      "training_accuracy / validation_accuracy => 0.81 / 0.90 for step 60000\n",
      "F1 score train set =  0.0 F1 Score test set =  0.0\n",
      "training_accuracy / validation_accuracy => 0.77 / 0.90 for step 70000\n",
      "F1 score train set =  0.0 F1 Score test set =  0.0\n",
      "training_accuracy / validation_accuracy => 0.82 / 0.90 for step 80000\n",
      "F1 score train set =  0.0 F1 Score test set =  0.0\n",
      "training_accuracy / validation_accuracy => 0.81 / 0.90 for step 90000\n",
      "F1 score train set =  0.0 F1 Score test set =  0.0\n",
      "training_accuracy / validation_accuracy => 0.78 / 0.90 for step 100000\n",
      "F1 score train set =  0.03846153846153454 F1 Score test set =  0.0\n",
      "training_accuracy / validation_accuracy => 0.75 / 0.90 for step 199999\n",
      "validation_accuracy => 0.9000\n"
     ]
    },
    {
     "data": {
      "image/png": "[encoded data removed]",
      "text/plain": [
       "<matplotlib.figure.Figure at 0x21944095c88>"
      ]
     },
     "metadata": {},
     "output_type": "display_data"
    },
    {
     "name": "stderr",
     "output_type": "stream",
     "text": [
      "C:\\Users\\Adan\\Documents\\EPFL\\PCML\\Segmentation\\Project_2\\ourProjectFunctions.py:19: RuntimeWarning: invalid value encountered in true_divide\n",
      "  rimg = (rimg / np.max(rimg) * 255).round().astype(np.uint8)\n"
     ]
    }
   ],
   "source": [
    "from sklearn.metrics import confusion_matrix\n",
    "\n",
    "train_accuracies = []\n",
    "validation_accuracies = []\n",
    "f1_scores_train = []\n",
    "f1_scores_test = []\n",
    "x_range = []\n",
    "image_size = 400;\n",
    "\n",
    "display_step=1\n",
    "\n",
    "with tf.Session() as sess:\n",
    "    sess.run(init)\n",
    "    \n",
    "    for i in range(TRAINING_ITERATIONS):\n",
    "\n",
    "        #get new batch\n",
    "        batch_xs, batch_ys = next_batch(BATCH_SIZE)  \n",
    "\n",
    "\n",
    "        # check progress on every 1st,2nd,...,10th,20th,...,100th... step\n",
    "        if i%display_step == 0 or (i+1) == TRAINING_ITERATIONS:\n",
    "\n",
    "            train_accuracy = accuracy.eval(feed_dict={data_nodes: batch_xs, \n",
    "                                                      label_nodes: batch_ys, \n",
    "                                                      keep_prob: 1.0})     \n",
    "            \n",
    "            tp_train = true_positives.eval(feed_dict={ data_nodes: batch_xs, \n",
    "                                                            label_nodes: batch_ys, \n",
    "                                                            keep_prob: 1.0})    \n",
    "\n",
    "            fp_train = false_positives.eval(feed_dict={ data_nodes: batch_xs, \n",
    "                                                    label_nodes: batch_ys, \n",
    "                                                    keep_prob: 1.0})   \n",
    "\n",
    "            fn_train = false_negatives.eval(feed_dict={ data_nodes: batch_xs, \n",
    "                                                    label_nodes: batch_ys, \n",
    "                                                    keep_prob: 1.0})  \n",
    "\n",
    "            precision_train = float(tp_train) / float(tp_train+fp_train + 0.0000000000001)\n",
    "            recall_train = float(tp_train) / float(tp_train + fn_train + 0.0000000000001)\n",
    "            F1_score_train = 2 * ( precision_train * recall_train ) / ( precision_train + recall_train + 0.0000000000001 )\n",
    "\n",
    "            \n",
    "            \n",
    "            if(VALIDATION_SIZE):\n",
    "                validation_accuracy = accuracy.eval(feed_dict={ data_nodes: validation_images, \n",
    "                                                                label_nodes: validation_labels, \n",
    "                                                                keep_prob: 1.0})     \n",
    "                \n",
    "                tp_test = true_positives.eval(feed_dict={ data_nodes: validation_images, \n",
    "                                                                label_nodes: validation_labels, \n",
    "                                                                keep_prob: 1.0})    \n",
    "\n",
    "                fp_test = false_positives.eval(feed_dict={ data_nodes: validation_images, \n",
    "                                                        label_nodes: validation_labels, \n",
    "                                                        keep_prob: 1.0})   \n",
    "            \n",
    "                fn_test = false_negatives.eval(feed_dict={ data_nodes: validation_images, \n",
    "                                                        label_nodes: validation_labels, \n",
    "                                                        keep_prob: 1.0})  \n",
    "\n",
    "                precision_test = float(tp_test) / float(tp_test+fp_test + 0.0000000000001)\n",
    "                recall_test = float(tp_test) / float(tp_test + fn_test + 0.0000000000001)\n",
    "                F1_score_test = 2 * ( precision_test * recall_test ) / ( precision_test + recall_test + 0.0000000000001 )\n",
    "                \n",
    "                \n",
    "                print(\"F1 score train set = \", F1_score_train,\"F1 Score test set = \", F1_score_test)\n",
    "                print('training_accuracy / validation_accuracy => %.2f / %.2f for step %d' % \n",
    "                (train_accuracy, validation_accuracy, i))\n",
    "\n",
    "                validation_accuracies.append(validation_accuracy)\n",
    "                f1_scores_train.append(F1_score_train)\n",
    "                f1_scores_test.append(F1_score_test)\n",
    "                \n",
    "            else:\n",
    "                 print('training_accuracy => %.4f for step %d'%(train_accuracy, i))\n",
    "            train_accuracies.append(train_accuracy)\n",
    "            x_range.append(i)\n",
    "\n",
    "            # increase display_step\n",
    "            if i%(display_step*10) == 0 and i:\n",
    "                display_step *= 10\n",
    "        \n",
    "        # train on batch\n",
    "        sess.run(train_step, feed_dict={data_nodes: batch_xs, label_nodes: batch_ys, keep_prob: DROPOUT})\n",
    "        \n",
    "    display_validation_stats()\n",
    "    \n",
    "    generate_predictions()\n",
    "    \n",
    "    saver.save(sess, '..\\\\tmp\\\\model')"
   ]
  },
  {
   "cell_type": "markdown",
   "metadata": {
    "collapsed": true
   },
   "source": [
    "# Submission File"
   ]
  },
  {
   "cell_type": "code",
   "execution_count": 27,
   "metadata": {
    "collapsed": false
   },
   "outputs": [],
   "source": [
    "with tf.Session() as sess:\n",
    "    ckpt = tf.train.get_checkpoint_state(save_dir)\n",
    "    if ckpt and ckpt.model_checkpoint_path:\n",
    "        saver.restore(sess, ckpt.model_checkpoint_path)\n",
    "        \n",
    "        generate_predictions()\n",
    "    else:\n",
    "        print('Oops, cannot load the model')"
   ]
  }
 ],
 "metadata": {
  "anaconda-cloud": {},
  "kernelspec": {
   "display_name": "Python [conda root]",
   "language": "python",
   "name": "conda-root-py"
  },
  "language_info": {
   "codemirror_mode": {
    "name": "ipython",
    "version": 3
   },
   "file_extension": ".py",
   "mimetype": "text/x-python",
   "name": "python",
   "nbconvert_exporter": "python",
   "pygments_lexer": "ipython3",
   "version": "3.5.2"
  }
 },
 "nbformat": 4,
 "nbformat_minor": 0
}
